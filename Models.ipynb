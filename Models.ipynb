{
 "cells": [
  {
   "cell_type": "markdown",
   "metadata": {},
   "source": [
    "# Using some models for predicting\n",
    "\n",
    "In this notebook, I am going to use `Random_forest` & `bagging` models to predict the `Dependent variable`. I want to use models which are able to work with `label encoding Independent variables` properly."
   ]
  },
  {
   "cell_type": "code",
   "execution_count": 1,
   "metadata": {},
   "outputs": [],
   "source": [
    "import Read_and_Write_Data as rw\n",
    "train = rw.read(\"data.csv\")"
   ]
  },
  {
   "cell_type": "code",
   "execution_count": 2,
   "metadata": {},
   "outputs": [
    {
     "data": {
      "text/plain": [
       "Index(['Episode', 'Station', 'Channel Type', 'Season', 'Year', 'Date',\n",
       "       'Day of week', 'Start_time', 'End_time', 'Length', 'Name of episode',\n",
       "       'Genre', 'First time or rerun', '# of episode in the season', 'Movie?',\n",
       "       'Game of the Canadiens during episode?', 'Market Share_total'],\n",
       "      dtype='object')"
      ]
     },
     "execution_count": 2,
     "metadata": {},
     "output_type": "execute_result"
    }
   ],
   "source": [
    "train.columns"
   ]
  },
  {
   "cell_type": "code",
   "execution_count": 3,
   "metadata": {},
   "outputs": [],
   "source": [
    "X = train.loc[:, train.columns != 'Market Share_total']\n",
    "y = train['Market Share_total']"
   ]
  },
  {
   "cell_type": "code",
   "execution_count": 11,
   "metadata": {},
   "outputs": [],
   "source": [
    "import pandas as pd\n",
    "import numpy as np\n",
    "from sklearn import linear_model\n",
    "import matplotlib.pyplot as plt\n",
    "from sklearn.metrics import r2_score, mean_absolute_error\n",
    "from sklearn.ensemble import RandomForestRegressor, BaggingRegressor\n",
    "from sklearn.model_selection import cross_val_score"
   ]
  },
  {
   "cell_type": "code",
   "execution_count": 8,
   "metadata": {},
   "outputs": [],
   "source": [
    "def fit_evaluate_model(regressor, X_train, y_train):\n",
    "    regressor.fit(X_train, y_train)\n",
    "    predictions = regressor.predict(X_train)\n",
    "    r2 = r2_score(y_train, predictions)\n",
    "    MAE = mean_absolute_error(y_train, predictions)\n",
    "    print(\"r2_score is = [{}]\".format(r2))\n",
    "    print(\"MAE_score is = [{}]\".format(MAE))"
   ]
  },
  {
   "cell_type": "code",
   "execution_count": 12,
   "metadata": {},
   "outputs": [],
   "source": [
    "def model_cross_validation(regressor, X_train, y_train):\n",
    "    cv_r2_scores = cross_val_score( regressor, X_train, y_train, cv=5, scoring='r2')\n",
    "    print(cv_r2_scores)\n",
    "    print(\"Mean 5-Fold R Squared: {}\".format(np.mean(cv_r2_scores)))\n",
    "    print(\"Std 5-Fold R Squared: {}\".format(np.std(cv_r2_scores)))"
   ]
  },
  {
   "cell_type": "markdown",
   "metadata": {},
   "source": [
    "# Random Forest\n",
    "________________________________"
   ]
  },
  {
   "cell_type": "markdown",
   "metadata": {},
   "source": [
    "### Experiment 1: run random Forest"
   ]
  },
  {
   "cell_type": "code",
   "execution_count": 9,
   "metadata": {},
   "outputs": [
    {
     "name": "stderr",
     "output_type": "stream",
     "text": [
      "C:\\Users\\rcp1\\Anaconda3\\lib\\site-packages\\sklearn\\ensemble\\forest.py:245: FutureWarning: The default value of n_estimators will change from 10 in version 0.20 to 100 in 0.22.\n",
      "  \"10 in version 0.20 to 100 in 0.22.\", FutureWarning)\n"
     ]
    },
    {
     "name": "stdout",
     "output_type": "stream",
     "text": [
      "r2_score is = [0.9744213800614181]\n",
      "MAE_score is = [0.4261205437067018]\n"
     ]
    }
   ],
   "source": [
    "regressor = RandomForestRegressor()\n",
    "fit_evaluate_model(regressor, X, y)"
   ]
  },
  {
   "cell_type": "code",
   "execution_count": 13,
   "metadata": {},
   "outputs": [
    {
     "name": "stdout",
     "output_type": "stream",
     "text": [
      "[0.76890785 0.75349995 0.79178762 0.77462516 0.68948718]\n",
      "Mean 5-Fold R Squared: 0.7556615490116114\n",
      "Std 5-Fold R Squared: 0.03528142655952823\n"
     ]
    }
   ],
   "source": [
    "model_cross_validation(regressor, X, y)"
   ]
  },
  {
   "cell_type": "markdown",
   "metadata": {},
   "source": [
    "# Bagging\n",
    "_________________"
   ]
  },
  {
   "cell_type": "markdown",
   "metadata": {},
   "source": [
    "### Experiment 1: Bagging"
   ]
  },
  {
   "cell_type": "code",
   "execution_count": 14,
   "metadata": {},
   "outputs": [
    {
     "name": "stdout",
     "output_type": "stream",
     "text": [
      "r2_score is = [0.9742456298909721]\n",
      "MAE_score is = [0.42643754378454124]\n"
     ]
    }
   ],
   "source": [
    "bagging_regressor = BaggingRegressor()\n",
    "fit_evaluate_model(bagging_regressor, X, y)"
   ]
  },
  {
   "cell_type": "code",
   "execution_count": 15,
   "metadata": {},
   "outputs": [
    {
     "name": "stdout",
     "output_type": "stream",
     "text": [
      "[0.77027899 0.74594122 0.79259861 0.77342061 0.6767099 ]\n",
      "Mean 5-Fold R Squared: 0.7517898638497382\n",
      "Std 5-Fold R Squared: 0.04036408842110854\n"
     ]
    }
   ],
   "source": [
    "model_cross_validation(bagging_regressor, X, y)"
   ]
  },
  {
   "cell_type": "code",
   "execution_count": null,
   "metadata": {},
   "outputs": [],
   "source": []
  }
 ],
 "metadata": {
  "kernelspec": {
   "display_name": "Python 3",
   "language": "python",
   "name": "python3"
  },
  "language_info": {
   "codemirror_mode": {
    "name": "ipython",
    "version": 3
   },
   "file_extension": ".py",
   "mimetype": "text/x-python",
   "name": "python",
   "nbconvert_exporter": "python",
   "pygments_lexer": "ipython3",
   "version": "3.7.3"
  }
 },
 "nbformat": 4,
 "nbformat_minor": 2
}
