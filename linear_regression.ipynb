{
 "cells": [
  {
   "cell_type": "markdown",
   "metadata": {},
   "source": [
    "# Linear_Regression\n",
    "in this part, I am going to make some simple linear regressions with just one feature each time. In other words, I am try to find the most important feature and get a better understanding about the linear regression."
   ]
  },
  {
   "cell_type": "code",
   "execution_count": 182,
   "metadata": {},
   "outputs": [],
   "source": [
    "#import some essntial libs \n",
    "import numpy as np\n",
    "import pandas as pd\n",
    "import matplotlib.pyplot as plt\n",
    "from sklearn.preprocessing import OneHotEncoder, Imputer, LabelEncoder \n",
    "from sklearn.model_selection import train_test_split\n",
    "from sklearn.linear_model import LinearRegression\n",
    "from sklearn.metrics import r2_score, mean_absolute_error\n",
    "from sklearn.model_selection import cross_val_score"
   ]
  },
  {
   "cell_type": "code",
   "execution_count": 252,
   "metadata": {},
   "outputs": [],
   "source": [
    "dataset = pd.read_csv(\"Data.csv\")"
   ]
  },
  {
   "cell_type": "code",
   "execution_count": 53,
   "metadata": {},
   "outputs": [
    {
     "data": {
      "text/html": [
       "<div>\n",
       "<style scoped>\n",
       "    .dataframe tbody tr th:only-of-type {\n",
       "        vertical-align: middle;\n",
       "    }\n",
       "\n",
       "    .dataframe tbody tr th {\n",
       "        vertical-align: top;\n",
       "    }\n",
       "\n",
       "    .dataframe thead th {\n",
       "        text-align: right;\n",
       "    }\n",
       "</style>\n",
       "<table border=\"1\" class=\"dataframe\">\n",
       "  <thead>\n",
       "    <tr style=\"text-align: right;\">\n",
       "      <th></th>\n",
       "      <th>Episode</th>\n",
       "      <th>Station</th>\n",
       "      <th>Channel Type</th>\n",
       "      <th>Season</th>\n",
       "      <th>Year</th>\n",
       "      <th>Date</th>\n",
       "      <th>Day of week</th>\n",
       "      <th>Start_time</th>\n",
       "      <th>End_time</th>\n",
       "      <th>Length</th>\n",
       "      <th>Name of episode</th>\n",
       "      <th>Genre</th>\n",
       "      <th>First time or rerun</th>\n",
       "      <th># of episode in the season</th>\n",
       "      <th>Movie?</th>\n",
       "      <th>Game of the Canadiens during episode?</th>\n",
       "      <th>Market Share_total</th>\n",
       "      <th>Temperature in Montreal during episode</th>\n",
       "    </tr>\n",
       "  </thead>\n",
       "  <tbody>\n",
       "    <tr>\n",
       "      <th>0</th>\n",
       "      <td>Vidéoclips V</td>\n",
       "      <td>V Total</td>\n",
       "      <td>General Channel</td>\n",
       "      <td>Fall</td>\n",
       "      <td>2016</td>\n",
       "      <td>2016-08-29</td>\n",
       "      <td>Monday</td>\n",
       "      <td>2016-08-29 06:00:00</td>\n",
       "      <td>2016-08-29 08:00:00</td>\n",
       "      <td>8</td>\n",
       "      <td>NaN</td>\n",
       "      <td>Music Video Clips</td>\n",
       "      <td>No</td>\n",
       "      <td>Yes</td>\n",
       "      <td>No</td>\n",
       "      <td>No</td>\n",
       "      <td>0.9</td>\n",
       "      <td>20.4</td>\n",
       "    </tr>\n",
       "  </tbody>\n",
       "</table>\n",
       "</div>"
      ],
      "text/plain": [
       "        Episode  Station     Channel Type Season  Year        Date  \\\n",
       "0  Vidéoclips V  V Total  General Channel   Fall  2016  2016-08-29   \n",
       "\n",
       "  Day of week           Start_time             End_time  Length  \\\n",
       "0      Monday  2016-08-29 06:00:00  2016-08-29 08:00:00       8   \n",
       "\n",
       "  Name of episode              Genre First time or rerun  \\\n",
       "0             NaN  Music Video Clips                  No   \n",
       "\n",
       "  # of episode in the season Movie? Game of the Canadiens during episode?  \\\n",
       "0                        Yes     No                                    No   \n",
       "\n",
       "   Market Share_total  Temperature in Montreal during episode  \n",
       "0                 0.9                                    20.4  "
      ]
     },
     "execution_count": 53,
     "metadata": {},
     "output_type": "execute_result"
    }
   ],
   "source": [
    "dataset.head(1)"
   ]
  },
  {
   "cell_type": "code",
   "execution_count": 253,
   "metadata": {},
   "outputs": [],
   "source": [
    "dataset = dataset.drop(columns = ['Unnamed: 0', 'Name of show'])"
   ]
  },
  {
   "cell_type": "code",
   "execution_count": 256,
   "metadata": {},
   "outputs": [],
   "source": [
    "X = dataset.iloc[:, 1].values\n",
    "y = dataset.iloc[:, 16].values"
   ]
  },
  {
   "cell_type": "markdown",
   "metadata": {},
   "source": [
    "## one_hot_encoding"
   ]
  },
  {
   "cell_type": "code",
   "execution_count": 257,
   "metadata": {},
   "outputs": [],
   "source": [
    "onehotencoder_X = OneHotEncoder()\n",
    "X = onehotencoder_X.fit_transform(X.reshape(-1, 1)).toarray()"
   ]
  },
  {
   "cell_type": "code",
   "execution_count": 258,
   "metadata": {},
   "outputs": [],
   "source": [
    "X_train, X_test, y_train, y_test = train_test_split(X, y, test_size = 0.2, random_state = 0)"
   ]
  },
  {
   "cell_type": "code",
   "execution_count": 259,
   "metadata": {},
   "outputs": [],
   "source": [
    "regressor = LinearRegression()"
   ]
  },
  {
   "cell_type": "code",
   "execution_count": 260,
   "metadata": {},
   "outputs": [],
   "source": [
    "def model_cross_validation(regressor, X_train, y_train):\n",
    "    cv_r2_scores = cross_val_score( regressor, X_train, y_train, cv=5, scoring='r2')\n",
    "    print(cv_r2_scores)\n",
    "    print(\"Mean 5-Fold R Squared: {}\".format(np.mean(cv_r2_scores)))\n",
    "    print(\"Std 5-Fold R Squared: {}\".format(np.std(cv_r2_scores)))"
   ]
  },
  {
   "cell_type": "code",
   "execution_count": 261,
   "metadata": {},
   "outputs": [
    {
     "name": "stdout",
     "output_type": "stream",
     "text": [
      "[0.56604994 0.60476775 0.5897768  0.58519939 0.55603089]\n",
      "Mean 5-Fold R Squared: 0.5803649538681726\n",
      "Std 5-Fold R Squared: 0.017346568384604577\n"
     ]
    }
   ],
   "source": [
    "model_cross_validation(regressor, X, y)"
   ]
  },
  {
   "cell_type": "code",
   "execution_count": 251,
   "metadata": {},
   "outputs": [
    {
     "data": {
      "text/html": [
       "<div>\n",
       "<style scoped>\n",
       "    .dataframe tbody tr th:only-of-type {\n",
       "        vertical-align: middle;\n",
       "    }\n",
       "\n",
       "    .dataframe tbody tr th {\n",
       "        vertical-align: top;\n",
       "    }\n",
       "\n",
       "    .dataframe thead th {\n",
       "        text-align: right;\n",
       "    }\n",
       "</style>\n",
       "<table border=\"1\" class=\"dataframe\">\n",
       "  <thead>\n",
       "    <tr style=\"text-align: right;\">\n",
       "      <th></th>\n",
       "      <th>feature</th>\n",
       "      <th>score1</th>\n",
       "      <th>score2</th>\n",
       "      <th>score3</th>\n",
       "      <th>score4</th>\n",
       "      <th>score5</th>\n",
       "      <th>mean</th>\n",
       "    </tr>\n",
       "  </thead>\n",
       "  <tbody>\n",
       "    <tr>\n",
       "      <th>Epreiment1</th>\n",
       "      <td>Season</td>\n",
       "      <td>-0.000042</td>\n",
       "      <td>-0.000005</td>\n",
       "      <td>0.000173</td>\n",
       "      <td>0.000084</td>\n",
       "      <td>0.000169</td>\n",
       "      <td>0.000076</td>\n",
       "    </tr>\n",
       "    <tr>\n",
       "      <th>Epreiment2</th>\n",
       "      <td>Genre</td>\n",
       "      <td>0.092424</td>\n",
       "      <td>0.090002</td>\n",
       "      <td>0.091531</td>\n",
       "      <td>0.092242</td>\n",
       "      <td>0.091703</td>\n",
       "      <td>0.091581</td>\n",
       "    </tr>\n",
       "    <tr>\n",
       "      <th>Epreiment3</th>\n",
       "      <td>Station</td>\n",
       "      <td>0.580718</td>\n",
       "      <td>0.585256</td>\n",
       "      <td>0.585004</td>\n",
       "      <td>0.581451</td>\n",
       "      <td>0.584245</td>\n",
       "      <td>0.583335</td>\n",
       "    </tr>\n",
       "    <tr>\n",
       "      <th>Epreiment4</th>\n",
       "      <td>Channel Type</td>\n",
       "      <td>0.327067</td>\n",
       "      <td>0.332193</td>\n",
       "      <td>0.328116</td>\n",
       "      <td>0.326634</td>\n",
       "      <td>0.326784</td>\n",
       "      <td>0.328159</td>\n",
       "    </tr>\n",
       "    <tr>\n",
       "      <th>Epreiment5</th>\n",
       "      <td>Day of week</td>\n",
       "      <td>0.000534</td>\n",
       "      <td>0.000632</td>\n",
       "      <td>0.000240</td>\n",
       "      <td>0.000553</td>\n",
       "      <td>0.000518</td>\n",
       "      <td>0.000495</td>\n",
       "    </tr>\n",
       "    <tr>\n",
       "      <th>Epreiment6</th>\n",
       "      <td>movie</td>\n",
       "      <td>0.000662</td>\n",
       "      <td>0.000608</td>\n",
       "      <td>0.000553</td>\n",
       "      <td>0.000538</td>\n",
       "      <td>0.000754</td>\n",
       "      <td>0.000623</td>\n",
       "    </tr>\n",
       "    <tr>\n",
       "      <th>Epreiment7</th>\n",
       "      <td>Temperature</td>\n",
       "      <td>0.000010</td>\n",
       "      <td>0.000017</td>\n",
       "      <td>0.000101</td>\n",
       "      <td>0.000035</td>\n",
       "      <td>0.000103</td>\n",
       "      <td>0.000053</td>\n",
       "    </tr>\n",
       "  </tbody>\n",
       "</table>\n",
       "</div>"
      ],
      "text/plain": [
       "                 feature    score1    score2    score3    score4    score5  \\\n",
       "Epreiment1        Season -0.000042 -0.000005  0.000173  0.000084  0.000169   \n",
       "Epreiment2         Genre  0.092424  0.090002  0.091531  0.092242  0.091703   \n",
       "Epreiment3       Station  0.580718  0.585256  0.585004  0.581451  0.584245   \n",
       "Epreiment4  Channel Type  0.327067  0.332193  0.328116  0.326634  0.326784   \n",
       "Epreiment5   Day of week  0.000534  0.000632  0.000240  0.000553  0.000518   \n",
       "Epreiment6         movie  0.000662  0.000608  0.000553  0.000538  0.000754   \n",
       "Epreiment7   Temperature  0.000010  0.000017  0.000101  0.000035  0.000103   \n",
       "\n",
       "                mean  \n",
       "Epreiment1  0.000076  \n",
       "Epreiment2  0.091581  \n",
       "Epreiment3  0.583335  \n",
       "Epreiment4  0.328159  \n",
       "Epreiment5  0.000495  \n",
       "Epreiment6  0.000623  \n",
       "Epreiment7  0.000053  "
      ]
     },
     "execution_count": 251,
     "metadata": {},
     "output_type": "execute_result"
    }
   ],
   "source": [
    "\n",
    "data = [['Season', -4.24969234e-05, -5.28959294e-06, 1.72789887e-04, 8.42423594e-05, 1.68742197e-04, 7.559758551858308e-05],\n",
    "       ['Genre', 0.09242393, 0.09000196, 0.09153138, 0.09224226, 0.09170306, 0.09158051728857644], \n",
    "       ['Station', 0.58071829, 0.58525578, 0.58500364, 0.5814507, 0.58424522, 0.5833347267037878], \n",
    "       ['Channel Type', 0.3270668, 0.33219296, 0.32811644, 0.32663364, 0.32678408, 0.3281587834034808],\n",
    "       ['Day of week', 0.00053377, 0.00063168, 0.00024039, 0.00055292, 0.00051804, 0.0004953604474903673],\n",
    "       ['movie', 0.00066172, 0.00060802, 0.00055322, 0.00053751, 0.00075436, 0.0006229665082291058],\n",
    "       ['Temperature', 9.89997727e-06, 1.74235718e-05, 1.01401121e-04, 3.53996129e-05, 1.02942464e-04, 5.3413349428277354e-05]]\n",
    "pd.DataFrame(data, columns=[\"feature\", \"score1\", \"score2\", \"score3\", \"score4\", \"score5\", \"mean\"], \n",
    "             index = ['Epreiment1', 'Epreiment2', 'Epreiment3', 'Epreiment4', 'Epreiment5', 'Epreiment6', 'Epreiment7'])"
   ]
  },
  {
   "cell_type": "code",
   "execution_count": null,
   "metadata": {},
   "outputs": [],
   "source": []
  }
 ],
 "metadata": {
  "kernelspec": {
   "display_name": "Python 3",
   "language": "python",
   "name": "python3"
  },
  "language_info": {
   "codemirror_mode": {
    "name": "ipython",
    "version": 3
   },
   "file_extension": ".py",
   "mimetype": "text/x-python",
   "name": "python",
   "nbconvert_exporter": "python",
   "pygments_lexer": "ipython3",
   "version": "3.7.3"
  }
 },
 "nbformat": 4,
 "nbformat_minor": 2
}
